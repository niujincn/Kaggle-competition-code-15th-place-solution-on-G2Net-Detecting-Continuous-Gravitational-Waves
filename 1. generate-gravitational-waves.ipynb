{
 "cells": [
  {
   "attachments": {},
   "cell_type": "markdown",
   "id": "da9628f7",
   "metadata": {},
   "source": [
    "# Step 1: Generate gravitational waves"
   ]
  },
  {
   "attachments": {},
   "cell_type": "markdown",
   "id": "d7a4d087",
   "metadata": {
    "papermill": {
     "duration": 0.004106,
     "end_time": "2022-11-14T09:00:20.521110",
     "exception": false,
     "start_time": "2022-11-14T09:00:20.517004",
     "status": "completed"
    },
    "tags": []
   },
   "source": [
    "## Import libs"
   ]
  },
  {
   "cell_type": "code",
   "execution_count": null,
   "id": "e3f15400",
   "metadata": {
    "_kg_hide-input": true,
    "execution": {
     "iopub.execute_input": "2022-11-14T09:01:05.343137Z",
     "iopub.status.busy": "2022-11-14T09:01:05.342590Z",
     "iopub.status.idle": "2022-11-14T09:01:11.406769Z",
     "shell.execute_reply": "2022-11-14T09:01:11.405425Z"
    },
    "papermill": {
     "duration": 6.078782,
     "end_time": "2022-11-14T09:01:11.409794",
     "exception": false,
     "start_time": "2022-11-14T09:01:05.331012",
     "status": "completed"
    },
    "tags": []
   },
   "outputs": [],
   "source": [
    "import numpy as np\n",
    "import pyfstat\n",
    "import os\n",
    "import warnings\n",
    "from pyfstat.utils import get_sft_as_arrays\n",
    "from tqdm import tqdm\n",
    "import matplotlib.pyplot as plt\n",
    "import gc\n",
    "from joblib import Parallel, delayed\n",
    "import multiprocessing\n",
    "warnings.filterwarnings(\"ignore\")"
   ]
  },
  {
   "attachments": {},
   "cell_type": "markdown",
   "id": "f4a6738c",
   "metadata": {},
   "source": [
    "## Config"
   ]
  },
  {
   "cell_type": "code",
   "execution_count": null,
   "id": "004d9809",
   "metadata": {},
   "outputs": [],
   "source": [
    "class CFG:\n",
    "    n_parallel_jobs = 5 # number of parallel jobs\n",
    "    n_instance_per_job = 3000 # number of instances for per parallel job"
   ]
  },
  {
   "attachments": {},
   "cell_type": "markdown",
   "id": "ad77dcb2",
   "metadata": {
    "papermill": {
     "duration": 0.010669,
     "end_time": "2022-11-14T09:01:11.518518",
     "exception": false,
     "start_time": "2022-11-14T09:01:11.507849",
     "status": "completed"
    },
    "tags": []
   },
   "source": [
    "## Function - generate gravitational waves"
   ]
  },
  {
   "cell_type": "code",
   "execution_count": null,
   "id": "f7266576",
   "metadata": {},
   "outputs": [],
   "source": [
    "def generate(signal_rate=0.01, parallel_job=0)->np.ndarray:\n",
    "\n",
    "    # parameters\n",
    "    F0 = np.random.uniform(48, 502)\n",
    "    F1 = 10**np.random.uniform(-12, -8) if np.random.uniform(0, 1) < 0.5 else -10**np.random.uniform(-12, -8)\n",
    "    Band = 0.33\n",
    "    Alpha = 2 * np.pi * np.random.rand()\n",
    "    Delta = np.pi * (0.5 - np.random.rand())\n",
    "    cosi = 1 - 2 * np.random.rand()\n",
    "    psi = 0.5 * np.pi * (0.5 - np.random.rand())\n",
    "    phi = 2 * np.pi * np.random.rand()\n",
    "    \n",
    "    writer_kwargs = {\n",
    "        \"label\": \"single_detector_gaussian_noise\",\n",
    "        \"tstart\": 1238166018,\n",
    "        \"duration\": 120 * 86400,\n",
    "        \"detectors\": \"H1,L1\",\n",
    "        \"sqrtSX\": 5e-24,\n",
    "        \"Tsft\": 1800,\n",
    "        \"SFTWindowType\": \"tukey\",\n",
    "        \"SFTWindowBeta\": 0.01,\n",
    "    }\n",
    "    \n",
    "    # generate pure signal\n",
    "    signal_parameters_generator = pyfstat.AllSkyInjectionParametersGenerator(\n",
    "        priors={\n",
    "            \"tref\": writer_kwargs[\"tstart\"],\n",
    "            \"F0\": F0,\n",
    "            \"F1\": F1,\n",
    "            \"F2\": 0,\n",
    "            \"Band\": Band,\n",
    "            \"h0\": lambda: writer_kwargs[\"sqrtSX\"] * 1000,\n",
    "            \"Alpha\": Alpha,\n",
    "            \"Delta\": Delta,\n",
    "            \"cosi\": cosi,\n",
    "            \"psi\": psi,\n",
    "            \"phi\": phi,\n",
    "        },\n",
    "    )\n",
    "    \n",
    "    writer_kwargs[\"outdir\"] = f\"PyFstat_data_cache/{parallel_job}\"\n",
    "    params = signal_parameters_generator.draw()\n",
    "\n",
    "    writer = pyfstat.Writer(**writer_kwargs, **params)\n",
    "    writer.make_data()\n",
    "    frequency, timestamps, sft_pure_signal = get_sft_as_arrays(writer.sftfilepath)\n",
    "\n",
    "    # generate noise\n",
    "    noise_parameters_generator = pyfstat.AllSkyInjectionParametersGenerator(\n",
    "        priors={\n",
    "            \"tref\": writer_kwargs[\"tstart\"],\n",
    "            \"F0\": F0,\n",
    "            \"F1\": F1,\n",
    "            \"F2\": 0,\n",
    "            \"Band\": Band,\n",
    "            \"h0\": lambda: writer_kwargs[\"sqrtSX\"] * 0,\n",
    "            \"Alpha\": Alpha,\n",
    "            \"Delta\": Delta,\n",
    "            \"cosi\": cosi,\n",
    "            \"psi\": psi,\n",
    "            \"phi\": phi,\n",
    "        },\n",
    "    )\n",
    "    \n",
    "    writer_kwargs[\"outdir\"] = f\"PyFstat_data_cache/{parallel_job}\"\n",
    "    params = noise_parameters_generator.draw()\n",
    "    writer = pyfstat.Writer(**writer_kwargs, **params)\n",
    "    writer.make_data()\n",
    "    _, _, sft_noise = get_sft_as_arrays(writer.sftfilepath)\n",
    "\n",
    "    frequency = frequency.astype(np.float32)\n",
    "    sft_H1_pure_signal = sft_pure_signal['H1'] * 1e22 / 1000 * signal_rate\n",
    "\n",
    "    # signal rate of H1 and L1 can be different\n",
    "    signal_rate_2 = signal_rate * (3**np.random.uniform(-1, 1))\n",
    "    signal_rate_2 = min(max(signal_rate_2, 2**(-6.6)), 2**(-3.3))\n",
    "\n",
    "    sft_L1_pure_signal = sft_pure_signal['L1'] * 1e22 / 1000 * signal_rate_2\n",
    "    sft_H1_noise = sft_noise['H1'] * 1e22\n",
    "    sft_L1_noise = sft_noise['L1'] * 1e22\n",
    "    \n",
    "    # signal = pure singal + noise\n",
    "    sft_H1_signal = sft_H1_pure_signal + sft_H1_noise\n",
    "    sft_L1_signal = sft_L1_pure_signal + sft_L1_noise\n",
    "\n",
    "    # from complex to real\n",
    "    sft_H1_noise = np.sqrt(sft_H1_noise.real**2 + sft_H1_noise.imag**2)\n",
    "    sft_L1_noise = np.sqrt(sft_L1_noise.real**2 + sft_L1_noise.imag**2)\n",
    "    sft_H1_signal = np.sqrt(sft_H1_signal.real**2 + sft_H1_signal.imag**2)\n",
    "    sft_L1_signal = np.sqrt(sft_L1_signal.real**2 + sft_L1_signal.imag**2)\n",
    "\n",
    "    freq_length = frequency.shape[0] - 1\n",
    "    start = np.random.randint(0, freq_length - 360) + 1\n",
    "    frequency = frequency[start:start+360].astype(np.float32)\n",
    "    sft_H1_noise = sft_H1_noise[start:start+360].astype(np.float32)\n",
    "    sft_L1_noise = sft_L1_noise[start:start+360].astype(np.float32)\n",
    "    sft_H1_signal = sft_H1_signal[start:start+360].astype(np.float32)\n",
    "    sft_L1_signal = sft_L1_signal[start:start+360].astype(np.float32)\n",
    "\n",
    "    return frequency, sft_H1_noise, sft_L1_noise, sft_H1_signal, sft_L1_signal"
   ]
  },
  {
   "attachments": {},
   "cell_type": "markdown",
   "id": "6976568a",
   "metadata": {
    "papermill": {
     "duration": 0.00912,
     "end_time": "2022-11-14T09:01:11.627175",
     "exception": false,
     "start_time": "2022-11-14T09:01:11.618055",
     "status": "completed"
    },
    "tags": []
   },
   "source": [
    "## Demonstration generated gravitational waves"
   ]
  },
  {
   "cell_type": "code",
   "execution_count": null,
   "id": "84533af9",
   "metadata": {},
   "outputs": [],
   "source": [
    "frequency, H1_noise, L1_noise, H1_signal, L1_signal = generate(signal_rate=2**-3.3)\n",
    "\n",
    "# plot the generated data - singal and noise\n",
    "plt.figure(figsize=(10, 5))\n",
    "plt.title('signal')\n",
    "plt.imshow(H1_signal, aspect='auto', cmap='gray')\n",
    "plt.colorbar()\n",
    "plt.show()\n",
    "\n",
    "plt.figure(figsize=(10, 5))\n",
    "plt.title('noise')\n",
    "plt.imshow(H1_noise, aspect='auto', cmap='gray')\n",
    "plt.colorbar()\n",
    "plt.show()"
   ]
  },
  {
   "attachments": {},
   "cell_type": "markdown",
   "id": "631ddaf3",
   "metadata": {
    "papermill": {
     "duration": 0.015545,
     "end_time": "2022-11-14T09:01:21.981416",
     "exception": false,
     "start_time": "2022-11-14T09:01:21.965871",
     "status": "completed"
    },
    "tags": []
   },
   "source": [
    "# Generate gravitational waves through multiprocessing"
   ]
  },
  {
   "cell_type": "code",
   "execution_count": null,
   "id": "ab08132d",
   "metadata": {},
   "outputs": [],
   "source": [
    "# output directory\n",
    "file_path=f\"./input/generated-data/\"\n",
    "if not os.path.exists(file_path):\n",
    "    os.makedirs(file_path)"
   ]
  },
  {
   "cell_type": "code",
   "execution_count": null,
   "id": "c09620ee",
   "metadata": {},
   "outputs": [],
   "source": [
    "def func(parallel_job):\n",
    "    time = tqdm(range(CFG.n_instance_per_job))\n",
    "    for idx in range(CFG.n_instance_per_job):\n",
    "        gc.collect()\n",
    "        while(True):\n",
    "            try:\n",
    "                signal_rate = 2**np.random.uniform(-6, -3.3) # singal rate between 2^-6 and 2^-3.3\n",
    "                frequency, H1_noise, L1_noise, H1_signal, L1_signal = generate(signal_rate=signal_rate, parallel_job=parallel_job)\n",
    "                np.savez(file_path + \"signal-\" + f\"{parallel_job}-\" + str(idx) + \".npz\", H1=H1_signal, L1=L1_signal, L1_noise=L1_noise, H1_noise=H1_noise)\n",
    "                break\n",
    "            except:\n",
    "                continue\n",
    "        \n",
    "        time.update(1)"
   ]
  },
  {
   "cell_type": "code",
   "execution_count": null,
   "id": "fb2b5da7",
   "metadata": {
    "execution": {
     "iopub.execute_input": "2022-11-14T09:01:22.032347Z",
     "iopub.status.busy": "2022-11-14T09:01:22.031508Z",
     "iopub.status.idle": "2022-11-14T09:13:26.300132Z",
     "shell.execute_reply": "2022-11-14T09:13:26.298407Z"
    },
    "papermill": {
     "duration": 724.300091,
     "end_time": "2022-11-14T09:13:26.303862",
     "exception": false,
     "start_time": "2022-11-14T09:01:22.003771",
     "status": "completed"
    },
    "tags": []
   },
   "outputs": [],
   "source": [
    "# multi processing\n",
    "num_cores = multiprocessing.cpu_count()\n",
    "print(\"num_cores: \", num_cores)\n",
    "Parallel(n_jobs=num_cores)(delayed(func)(parallel_job) for parallel_job in range(CFG.n_parallel_jobs))"
   ]
  }
 ],
 "metadata": {
  "kernelspec": {
   "display_name": "pythonlab",
   "language": "python",
   "name": "python3"
  },
  "language_info": {
   "codemirror_mode": {
    "name": "ipython",
    "version": 3
   },
   "file_extension": ".py",
   "mimetype": "text/x-python",
   "name": "python",
   "nbconvert_exporter": "python",
   "pygments_lexer": "ipython3",
   "version": "3.8.15 (default, Nov 24 2022, 15:19:38) \n[GCC 11.2.0]"
  },
  "papermill": {
   "default_parameters": {},
   "duration": 796.70025,
   "end_time": "2022-11-14T09:13:27.655664",
   "environment_variables": {},
   "exception": null,
   "input_path": "__notebook__.ipynb",
   "output_path": "__notebook__.ipynb",
   "parameters": {},
   "start_time": "2022-11-14T09:00:10.955414",
   "version": "2.3.4"
  },
  "vscode": {
   "interpreter": {
    "hash": "4e37f96f29b8840cec1a2b9c1a399b2792e7c1d6e9623dae854f30ec785f0230"
   }
  }
 },
 "nbformat": 4,
 "nbformat_minor": 5
}
